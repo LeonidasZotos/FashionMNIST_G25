{
 "cells": [
  {
   "cell_type": "code",
   "execution_count": null,
   "id": "c404b686",
   "metadata": {},
   "outputs": [],
   "source": [
    "import concurrent\n",
    "import os\n",
    "import time\n",
    "from concurrent.futures import ProcessPoolExecutor\n",
    "from types import SimpleNamespace\n",
    "from typing import *"
   ]
  },
  {
   "cell_type": "code",
   "execution_count": null,
   "id": "8ec84be1",
   "metadata": {},
   "outputs": [],
   "source": [
    "from tqdm import tqdm"
   ]
  },
  {
   "cell_type": "markdown",
   "id": "4e0ac517",
   "metadata": {
    "lines_to_next_cell": 2
   },
   "source": [
    "A lot of these are inspired by fast.ai code written in part by Jeremy Howard for a deep learning library.\n",
    "They were used to make our code more efficient and better and are not directly related to any ML work."
   ]
  },
  {
   "cell_type": "code",
   "execution_count": null,
   "id": "d244c7ed",
   "metadata": {},
   "outputs": [],
   "source": [
    "def num_cpus() -> int:\n",
    "    \"Get number of cpus\"\n",
    "    try:\n",
    "        return len(os.sched_getaffinity(0))\n",
    "    except AttributeError:\n",
    "        return os.cpu_count()"
   ]
  },
  {
   "cell_type": "code",
   "execution_count": null,
   "id": "1aeaa0e3",
   "metadata": {},
   "outputs": [],
   "source": [
    "_default_cpus = min(16, num_cpus())\n",
    "defaults = SimpleNamespace(\n",
    "    cpus=_default_cpus, cmap=\"viridis\", return_fig=False, silent=False\n",
    ")"
   ]
  },
  {
   "cell_type": "code",
   "execution_count": null,
   "id": "d2653058",
   "metadata": {},
   "outputs": [],
   "source": [
    "def ifnone(a, b):\n",
    "    \"\"\"\n",
    "    Return if None\n",
    "    \"\"\"\n",
    "    return b if a is None else a"
   ]
  },
  {
   "cell_type": "code",
   "execution_count": null,
   "id": "f0b814af",
   "metadata": {},
   "outputs": [],
   "source": [
    "def parallel(func, arr: Collection, max_workers: int = 8, leave=False):  #%t\n",
    "    \"Call `func` on every element of `arr` in parallel using `max_workers`.\"\n",
    "    max_workers = ifnone(max_workers, defaults.cpus)\n",
    "    if max_workers < 2:\n",
    "        results = [func(o) for i, o in tqdm(enumerate(arr), total=len(arr))]\n",
    "    else:\n",
    "        with ProcessPoolExecutor(max_workers=max_workers) as ex:\n",
    "            futures = [ex.submit(func, o) for i, o in enumerate(arr)]\n",
    "            results = []\n",
    "            for f in tqdm(concurrent.futures.as_completed(futures), total=len(arr)):\n",
    "                results.append(f.result())\n",
    "    if any([o is not None for o in results]):\n",
    "        return results"
   ]
  }
 ],
 "metadata": {
  "jupytext": {
   "cell_metadata_filter": "-all",
   "main_language": "python",
   "notebook_metadata_filter": "-all"
  }
 },
 "nbformat": 4,
 "nbformat_minor": 5
}
