{
 "cells": [
  {
   "cell_type": "code",
   "execution_count": null,
   "id": "e338ba42",
   "metadata": {},
   "outputs": [],
   "source": [
    "from backbone import *"
   ]
  },
  {
   "cell_type": "code",
   "execution_count": null,
   "id": "113f825b",
   "metadata": {},
   "outputs": [],
   "source": [
    "# READ DATA : Dont forget to remove subset (set to None for full data)\n",
    "(\n",
    "    train_features,\n",
    "    val_features,\n",
    "    train_labels,\n",
    "    val_labels,\n",
    "    test_features,\n",
    "    test_labels,\n",
    ") = load_data(main_path=main_path, subset=None)\n",
    "print_shapes(\n",
    "    [train_features, val_features, train_labels, val_labels, test_features, test_labels]\n",
    ")"
   ]
  },
  {
   "cell_type": "code",
   "execution_count": null,
   "id": "d671da2a",
   "metadata": {},
   "outputs": [],
   "source": [
    "# SEE IF READING WORKED\n",
    "visualize_image(train_features)"
   ]
  },
  {
   "cell_type": "code",
   "execution_count": null,
   "id": "90022437",
   "metadata": {
    "lines_to_next_cell": 0,
    "title": "Run entire pipeline"
   },
   "outputs": [],
   "source": [
    "multi_model_run(\n",
    "    train_features=train_features,\n",
    "    test_features=test_features,\n",
    "    train_labels=train_labels,\n",
    "    test_labels=test_labels,\n",
    "    model_list=[\n",
    "        KNeighborsClassifier(n_neighbors=3),\n",
    "        RandomForestClassifier(max_depth=5, n_estimators=10, max_features=1),\n",
    "    ],\n",
    "    metrics=[\n",
    "        accuracy_score,\n",
    "        precision_score,\n",
    "        recall_score,\n",
    "    ],\n",
    ")"
   ]
  },
  {
   "cell_type": "code",
   "execution_count": null,
   "id": "9a45fac7",
   "metadata": {},
   "outputs": [],
   "source": []
  }
 ],
 "metadata": {
  "jupytext": {
   "cell_metadata_filter": "title,-all",
   "main_language": "python",
   "notebook_metadata_filter": "-all"
  }
 },
 "nbformat": 4,
 "nbformat_minor": 5
}
